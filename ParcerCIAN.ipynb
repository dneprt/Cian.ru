{
 "cells": [
  {
   "cell_type": "code",
   "execution_count": 1,
   "metadata": {
    "collapsed": true
   },
   "outputs": [],
   "source": [
    "import requests\n",
    "import re\n",
    "from bs4 import BeautifulSoup\n",
    "import pandas as pd\n",
    "import time\n",
    "import numpy as np"
   ]
  },
  {
   "cell_type": "code",
   "execution_count": 2,
   "metadata": {
    "collapsed": true
   },
   "outputs": [],
   "source": [
    "def html_stripper(text):\n",
    "    return re.sub('<[^<]+?>', '', str(text))"
   ]
  },
  {
   "cell_type": "markdown",
   "metadata": {},
   "source": [
    "## Цена квартиры"
   ]
  },
  {
   "cell_type": "code",
   "execution_count": 9,
   "metadata": {
    "collapsed": true
   },
   "outputs": [],
   "source": [
    "def getPrice(flat_page):\n",
    "    price = flat_page.find('div', attrs={'class':'object_descr_price'})\n",
    "    price = re.split('<div>|руб|\\W', str(price))\n",
    "    price = \"\".join([i for i in price if i.isdigit()][-3:])\n",
    "    return int(price)"
   ]
  },
  {
   "cell_type": "markdown",
   "metadata": {},
   "source": [
    "## Координаты квартиры"
   ]
  },
  {
   "cell_type": "code",
   "execution_count": 10,
   "metadata": {
    "collapsed": true
   },
   "outputs": [],
   "source": [
    "def getCoords(flat_page):\n",
    "    coords = flat_page.find('div', attrs={'class':'map_info_button_extend'}).contents[1]\n",
    "    coords = re.split('&amp|center=|%2C', str(coords))\n",
    "    coords_list = []\n",
    "    for item in coords:\n",
    "        if item[0].isdigit():\n",
    "            coords_list.append(item)\n",
    "    lat = float(coords_list[0])\n",
    "    lon = float(coords_list[1])\n",
    "    return lat, lon"
   ]
  },
  {
   "cell_type": "markdown",
   "metadata": {},
   "source": [
    "## Количество комнат"
   ]
  },
  {
   "cell_type": "code",
   "execution_count": 11,
   "metadata": {
    "collapsed": true
   },
   "outputs": [],
   "source": [
    "def getRoom(flat_page):\n",
    "    rooms = flat_page.find('div', attrs={'class':'object_descr_title'})\n",
    "    rooms = html_stripper(rooms)\n",
    "    room_number = ''\n",
    "    for i in re.split('-|\\n', rooms):\n",
    "        if 'комн' in i:\n",
    "            break\n",
    "        else:\n",
    "            room_number += i\n",
    "    room_number = \"\".join(room_number.split())\n",
    "    return room_number"
   ]
  },
  {
   "cell_type": "markdown",
   "metadata": {},
   "source": [
    "## Этаж"
   ]
  },
  {
   "cell_type": "code",
   "execution_count": 12,
   "metadata": {
    "collapsed": true
   },
   "outputs": [],
   "source": [
    "def getFloor(flat_page):\n",
    "    table = flat_page.find('table', attrs = {'class':'object_descr_props'})\n",
    "    table = html_stripper(table)\n",
    "    floor_number = ''\n",
    "    for i in re.split('\\xa0|-|\\n', re.split('Этаж:|Тип дома', table)[1]):\n",
    "        if '/' in i:\n",
    "            break\n",
    "        else:\n",
    "            floor_number += i\n",
    "    floor_number = \"\".join(floor_number.split())\n",
    "    return floor_number"
   ]
  },
  {
   "cell_type": "markdown",
   "metadata": {},
   "source": [
    "## Количество этажей в доме"
   ]
  },
  {
   "cell_type": "code",
   "execution_count": 13,
   "metadata": {
    "collapsed": false
   },
   "outputs": [],
   "source": [
    "def getNFloor(flat_page):\n",
    "    table = flat_page.find('table', attrs = {'class':'object_descr_props'})\n",
    "    table = html_stripper(table)\n",
    "    if '/' in re.split('\\xa0|:|-|\\n', re.split('Этаж:|Тип дома', table)[1]):\n",
    "        Nfloor_number = \"\".join([i for i in re.split('\\xa0|:|-|\\n', re.split('Этаж:|Тип дома', table)[1]) if i.isdigit()][-1])\n",
    "    else: Nfloor_number = np.NaN\n",
    "    return Nfloor_number"
   ]
  },
  {
   "cell_type": "markdown",
   "metadata": {},
   "source": [
    "## Общая площадь квартиры"
   ]
  },
  {
   "cell_type": "code",
   "execution_count": 14,
   "metadata": {
    "collapsed": true
   },
   "outputs": [],
   "source": [
    "def getTotsp(flat_page):\n",
    "    table = flat_page.find('table', attrs = {'class':'object_descr_props'})\n",
    "    table = html_stripper(table)\n",
    "    Totsp  = re.split('\\n|\\xa0', re.split('Общая площадь:|м2', table)[1])[-2]\n",
    "    return float(Totsp.replace(',','.'))"
   ]
  },
  {
   "cell_type": "markdown",
   "metadata": {},
   "source": [
    "## Жилая площадь квартиры"
   ]
  },
  {
   "cell_type": "code",
   "execution_count": 15,
   "metadata": {
    "collapsed": true
   },
   "outputs": [],
   "source": [
    "def getLivesp(flat_page):\n",
    "    table = flat_page.find('table', attrs = {'class':'object_descr_props'})\n",
    "    table = html_stripper(table)\n",
    "    if '–' in re.split('Жилая площадь:|Площадь кухни', table)[1]:\n",
    "        Livesp = np.NaN\n",
    "    else:\n",
    "        Livesp  = re.split('\\n|\\xa0', re.split('Жилая площадь:|Площадь кухни', table)[1])[-6].replace(',','.')\n",
    "    return Livesp"
   ]
  },
  {
   "cell_type": "markdown",
   "metadata": {},
   "source": [
    "## Площадь кухни"
   ]
  },
  {
   "cell_type": "code",
   "execution_count": 16,
   "metadata": {
    "collapsed": true
   },
   "outputs": [],
   "source": [
    "def getKitsp (flat_page):\n",
    "    table = flat_page.find('table', attrs = {'class':'object_descr_props'})\n",
    "    table = html_stripper(table)\n",
    "    if '–' in re.split('Площадь кухни:|санузлов|Санузел', table)[1]:\n",
    "        Kitsp = np.NaN\n",
    "    else:\n",
    "        Kitsp  = re.split('\\n|\\xa0', re.split('Площадь кухни:|Совмещенных санузлов', table)[1])[2].replace(',','.')\n",
    "    return Kitsp"
   ]
  },
  {
   "cell_type": "markdown",
   "metadata": {},
   "source": [
    "## Расстояние до метро в минутах"
   ]
  },
  {
   "cell_type": "code",
   "execution_count": 17,
   "metadata": {
    "collapsed": false
   },
   "outputs": [],
   "source": [
    "def getMetrdist(flat_page):\n",
    "    Metrdist = ''\n",
    "    if 'None' in re.split('\\n',html_stripper(flat_page.find('span', attrs = {'class':'object_item_metro_comment'}))):\n",
    "        Metrdist = np.NaN\n",
    "    else:\n",
    "        for i in re.split('\\n',html_stripper(flat_page.find('span', attrs = {'class':'object_item_metro_comment'}))):\n",
    "            if 'мин' in i:\n",
    "                break\n",
    "            else:\n",
    "                Metrdist += i\n",
    "        Metrdist = \"\".join(Metrdist.split())\n",
    "    return Metrdist"
   ]
  },
  {
   "cell_type": "markdown",
   "metadata": {},
   "source": [
    "## Пешком или на транспорте"
   ]
  },
  {
   "cell_type": "code",
   "execution_count": 18,
   "metadata": {
    "collapsed": true
   },
   "outputs": [],
   "source": [
    "def getWalk(flat_page):\n",
    "    Walk  = ''\n",
    "    if 'None' in re.split('\\n',html_stripper(flat_page.find('span', attrs = {'class':'object_item_metro_comment'}))):\n",
    "        Walk = np.NaN\n",
    "    else:\n",
    "        for i in re.split('\\n',html_stripper(flat_page.find('span', attrs = {'class':'object_item_metro_comment'}))):\n",
    "            if 'пешком' in i: \n",
    "                Walk = 1\n",
    "                break\n",
    "            else:\n",
    "                Walk = 0\n",
    "    return Walk"
   ]
  },
  {
   "cell_type": "markdown",
   "metadata": {},
   "source": [
    "## Наличие телефона"
   ]
  },
  {
   "cell_type": "code",
   "execution_count": 19,
   "metadata": {
    "collapsed": true
   },
   "outputs": [],
   "source": [
    "def getTel (flat_page):\n",
    "    table = flat_page.find('table', attrs = {'class':'object_descr_props'})\n",
    "    table = html_stripper(table)\n",
    "    if 'Телефон' in table:\n",
    "        Tel  = ''\n",
    "        for i in re.split('\\n|\\xa0',re.split('Телефон:|Вид из окна', table)[1]):\n",
    "            if 'да' in i: \n",
    "                Tel = 1\n",
    "                break\n",
    "            else:\n",
    "                Tel = 0\n",
    "    else:\n",
    "        Tel = 0\n",
    "    return Tel"
   ]
  },
  {
   "cell_type": "markdown",
   "metadata": {},
   "source": [
    "## Новостройка или вторичка"
   ]
  },
  {
   "cell_type": "code",
   "execution_count": 20,
   "metadata": {
    "collapsed": true
   },
   "outputs": [],
   "source": [
    "def getNew (flat_page):\n",
    "    table = flat_page.find('table', attrs = {'class':'object_descr_props'})\n",
    "    table = html_stripper(table)\n",
    "    if 'вторичка' in table:\n",
    "        New  = 0\n",
    "    else:\n",
    "        New = 1\n",
    "    return New"
   ]
  },
  {
   "cell_type": "markdown",
   "metadata": {},
   "source": [
    "## Кирпичный/монолит/жб"
   ]
  },
  {
   "cell_type": "code",
   "execution_count": 21,
   "metadata": {
    "collapsed": true
   },
   "outputs": [],
   "source": [
    "def getBrick (flat_page):\n",
    "    table = flat_page.find('table', attrs = {'class':'object_descr_props'})\n",
    "    table = html_stripper(table)\n",
    "    Brick  = 0\n",
    "    if 'кирпич' in table: Brick = 1\n",
    "    if 'монолит' in table: Brick = 1\n",
    "    if 'жб' in table: Brick = 1\n",
    "    return Brick "
   ]
  },
  {
   "cell_type": "markdown",
   "metadata": {},
   "source": [
    "## Наличие балкона/лоджии"
   ]
  },
  {
   "cell_type": "code",
   "execution_count": 22,
   "metadata": {
    "collapsed": true
   },
   "outputs": [],
   "source": [
    "def getBal (flat_page):\n",
    "    table = flat_page.find('table', attrs = {'class':'object_descr_props'})\n",
    "    table = html_stripper(table)\n",
    "    Bal  = 0\n",
    "    if 'балк' in table: Bal = 1\n",
    "    if 'лодж' in table: Bal = 1\n",
    "    return Bal "
   ]
  },
  {
   "cell_type": "markdown",
   "metadata": {},
   "source": [
    "## Расстояние до цента Москвы"
   ]
  },
  {
   "cell_type": "code",
   "execution_count": 23,
   "metadata": {
    "collapsed": true
   },
   "outputs": [],
   "source": [
    "def getDist (flat_page):\n",
    "    coorsh = 55.755826\n",
    "    coordol = 37.6173\n",
    "    Dist = (((getCoords(flat_page)[1] - coordol)*111.3*np.cos(getCoords(flat_page)[0]))**2 +\n",
    "            ((getCoords(flat_page)[0] - coorsh)*111*np.cos(coordol))**2)**(1/2)\n",
    "    return Dist"
   ]
  },
  {
   "cell_type": "markdown",
   "metadata": {},
   "source": [
    "# Итоговая таблица по районам"
   ]
  },
  {
   "cell_type": "code",
   "execution_count": 36,
   "metadata": {
    "collapsed": true
   },
   "outputs": [],
   "source": [
    "FlatsStats = pd.DataFrame(columns=['District', 'N', 'Rooms', 'Price','Totsp','Livesp','Kitsp','Dist','Metrdist','Walk','Brick','Tel',\n",
    "                                       'Bal','Floor','Nfloors','New'])"
   ]
  },
  {
   "cell_type": "code",
   "execution_count": 37,
   "metadata": {
    "collapsed": true
   },
   "outputs": [],
   "source": [
    "def Stats(district,k,FlatsStats):\n",
    "    links = []\n",
    "    for page in range(1, 30):\n",
    "        page_url =  district.format(page)\n",
    "\n",
    "        search_page = requests.get(page_url)\n",
    "        search_page = search_page.content\n",
    "        search_page = BeautifulSoup(search_page, 'lxml')\n",
    "\n",
    "        flat_urls = search_page.findAll('div', attrs = {'ng-class':\"{'serp-item_removed': offer.remove.state, 'serp-item_popup-opened': isPopupOpen}\"})\n",
    "        flat_urls = re.split('http://www.cian.ru/sale/flat/|/\" ng-class=\"', str(flat_urls))\n",
    "\n",
    "        for link in flat_urls:\n",
    "            if link.isdigit():\n",
    "                links.append(link)\n",
    "    for i in range(len(links)):\n",
    "        flat_url = 'http://www.cian.ru/sale/flat/' + str(links[i]) + '/' \n",
    "        flat_page = requests.get(flat_url)\n",
    "        flat_page = flat_page.content\n",
    "        flat_page = BeautifulSoup(flat_page, 'lxml')    \n",
    "\n",
    "        to_append = {'District':k,'N':i, 'Rooms':getRoom(flat_page), 'Price':getPrice(flat_page), 'Totsp':getTotsp(flat_page), \n",
    "                     'Livesp':getLivesp(flat_page),'Kitsp':getKitsp(flat_page), 'Dist':getDist(flat_page),\n",
    "                     'Metrdist':getMetrdist(flat_page), 'Walk':getWalk(flat_page),'Brick':getBrick(flat_page), \n",
    "                     'Tel':getTel(flat_page), 'Bal':getBal(flat_page),'Floor':getFloor(flat_page),\n",
    "                     'Nfloors':getNFloor(flat_page), 'New':getNew(flat_page)}\n",
    "        FlatsStats = FlatsStats.append(to_append, ignore_index=True)\n",
    "        if i%100==0: print('I`m not dead, I`m working! The page is {}'.format(i+1))\n",
    "    return FlatsStats\n"
   ]
  },
  {
   "cell_type": "code",
   "execution_count": 38,
   "metadata": {
    "collapsed": false
   },
   "outputs": [
    {
     "name": "stdout",
     "output_type": "stream",
     "text": [
      "I`m not dead, I`m working! The page is 1\n",
      "I`m not dead, I`m working! The page is 101\n",
      "I`m not dead, I`m working! The page is 201\n",
      "I`m not dead, I`m working! The page is 301\n",
      "I`m not dead, I`m working! The page is 401\n",
      "I`m not dead, I`m working! The page is 501\n",
      "I`m not dead, I`m working! The page is 601\n",
      "I`m not dead, I`m working! The page is 701\n",
      "I`m not dead, I`m working! The page is 801\n",
      "I`m not dead, I`m working! The page is 1\n",
      "I`m not dead, I`m working! The page is 101\n",
      "I`m not dead, I`m working! The page is 201\n",
      "I`m not dead, I`m working! The page is 301\n",
      "I`m not dead, I`m working! The page is 401\n",
      "I`m not dead, I`m working! The page is 501\n",
      "I`m not dead, I`m working! The page is 601\n",
      "I`m not dead, I`m working! The page is 701\n",
      "I`m not dead, I`m working! The page is 801\n",
      "I`m not dead, I`m working! The page is 1\n",
      "I`m not dead, I`m working! The page is 101\n",
      "I`m not dead, I`m working! The page is 201\n",
      "I`m not dead, I`m working! The page is 301\n",
      "I`m not dead, I`m working! The page is 401\n",
      "I`m not dead, I`m working! The page is 501\n",
      "I`m not dead, I`m working! The page is 601\n",
      "I`m not dead, I`m working! The page is 701\n",
      "I`m not dead, I`m working! The page is 801\n",
      "I`m not dead, I`m working! The page is 1\n",
      "I`m not dead, I`m working! The page is 101\n",
      "I`m not dead, I`m working! The page is 201\n",
      "I`m not dead, I`m working! The page is 301\n",
      "I`m not dead, I`m working! The page is 401\n",
      "I`m not dead, I`m working! The page is 501\n",
      "I`m not dead, I`m working! The page is 601\n",
      "I`m not dead, I`m working! The page is 701\n",
      "I`m not dead, I`m working! The page is 801\n",
      "I`m not dead, I`m working! The page is 1\n",
      "I`m not dead, I`m working! The page is 101\n",
      "I`m not dead, I`m working! The page is 201\n",
      "I`m not dead, I`m working! The page is 301\n",
      "I`m not dead, I`m working! The page is 401\n",
      "I`m not dead, I`m working! The page is 501\n",
      "I`m not dead, I`m working! The page is 601\n",
      "I`m not dead, I`m working! The page is 701\n",
      "I`m not dead, I`m working! The page is 801\n",
      "I`m not dead, I`m working! The page is 1\n",
      "I`m not dead, I`m working! The page is 101\n",
      "I`m not dead, I`m working! The page is 201\n",
      "I`m not dead, I`m working! The page is 301\n",
      "I`m not dead, I`m working! The page is 401\n",
      "I`m not dead, I`m working! The page is 501\n",
      "I`m not dead, I`m working! The page is 601\n",
      "I`m not dead, I`m working! The page is 701\n",
      "I`m not dead, I`m working! The page is 801\n",
      "I`m not dead, I`m working! The page is 1\n",
      "I`m not dead, I`m working! The page is 101\n",
      "I`m not dead, I`m working! The page is 201\n",
      "I`m not dead, I`m working! The page is 301\n",
      "I`m not dead, I`m working! The page is 401\n",
      "I`m not dead, I`m working! The page is 501\n",
      "I`m not dead, I`m working! The page is 601\n",
      "I`m not dead, I`m working! The page is 701\n",
      "I`m not dead, I`m working! The page is 801\n",
      "I`m not dead, I`m working! The page is 1\n",
      "I`m not dead, I`m working! The page is 101\n",
      "I`m not dead, I`m working! The page is 201\n",
      "I`m not dead, I`m working! The page is 301\n",
      "I`m not dead, I`m working! The page is 401\n",
      "I`m not dead, I`m working! The page is 501\n",
      "I`m not dead, I`m working! The page is 601\n",
      "I`m not dead, I`m working! The page is 701\n",
      "I`m not dead, I`m working! The page is 801\n",
      "I`m not dead, I`m working! The page is 1\n",
      "I`m not dead, I`m working! The page is 101\n",
      "I`m not dead, I`m working! The page is 201\n",
      "I`m not dead, I`m working! The page is 301\n",
      "I`m not dead, I`m working! The page is 401\n",
      "I`m not dead, I`m working! The page is 501\n",
      "I`m not dead, I`m working! The page is 601\n",
      "I`m not dead, I`m working! The page is 701\n",
      "I`m not dead, I`m working! The page is 801\n"
     ]
    }
   ],
   "source": [
    "#ЦАО\n",
    "district0 = 'http://www.cian.ru/cat.php?deal_type=sale&district%5B0%5D=13&district%5B1%5D=14&district%5B2%5D=15&district%5B3%5D=16&district%5B4%5D=17&district%5B5%5D=18&district%5B6%5D=19&district%5B7%5D=20&district%5B8%5D=21&district%5B9%5D=22&engine_version=2&offer_type=flat&p={}&room1=1&room2=1&room3=1&room4=1&room5=1&room6=1'\n",
    "FlatsStats=Stats(district0,0,FlatsStats)\n",
    "#САО\n",
    "district1 = 'http://www.cian.ru/cat.php?deal_type=sale&district%5B0%5D=23&district%5B1%5D=24&district%5B10%5D=33&district%5B11%5D=34&district%5B12%5D=35&district%5B13%5D=36&district%5B14%5D=37&district%5B15%5D=38&district%5B2%5D=25&district%5B3%5D=26&district%5B4%5D=27&district%5B5%5D=28&district%5B6%5D=29&district%5B7%5D=30&district%5B8%5D=31&district%5B9%5D=32&engine_version=2&offer_type=flat&p={}&room1=1&room2=1&room3=1&room4=1&room5=1&room6=1'\n",
    "FlatsStats=Stats(district1,1,FlatsStats)\n",
    "#СВАО\n",
    "district2 = 'http://www.cian.ru/cat.php?deal_type=sale&district%5B0%5D=39&district%5B1%5D=40&district%5B10%5D=49&district%5B11%5D=50&district%5B12%5D=51&district%5B13%5D=52&district%5B14%5D=53&district%5B15%5D=54&district%5B16%5D=55&district%5B2%5D=41&district%5B3%5D=42&district%5B4%5D=43&district%5B5%5D=44&district%5B6%5D=45&district%5B7%5D=46&district%5B8%5D=47&district%5B9%5D=48&engine_version=2&offer_type=flat&p={}&room1=1&room2=1&room3=1&room4=1&room5=1&room6=1'\n",
    "FlatsStats=Stats(district2,2,FlatsStats)\n",
    "#ВАО\n",
    "district3 = 'http://www.cian.ru/cat.php?deal_type=sale&district%5B0%5D=56&district%5B1%5D=57&district%5B10%5D=66&district%5B11%5D=67&district%5B12%5D=68&district%5B13%5D=69&district%5B14%5D=70&district%5B15%5D=71&district%5B2%5D=58&district%5B3%5D=59&district%5B4%5D=60&district%5B5%5D=61&district%5B6%5D=62&district%5B7%5D=63&district%5B8%5D=64&district%5B9%5D=65&engine_version=2&offer_type=flat&p={}&room1=1&room2=1&room3=1&room4=1&room5=1&room6=1'\n",
    "FlatsStats=Stats(district3,3,FlatsStats)\n",
    "#ЮВАО\n",
    "district4 = 'http://www.cian.ru/cat.php?deal_type=sale&district%5B0%5D=72&district%5B1%5D=73&district%5B10%5D=82&district%5B11%5D=83&district%5B2%5D=74&district%5B3%5D=75&district%5B4%5D=76&district%5B5%5D=77&district%5B6%5D=78&district%5B7%5D=79&district%5B8%5D=80&district%5B9%5D=81&engine_version=2&offer_type=flat&p={}&room1=1&room2=1&room3=1&room4=1&room5=1&room6=1'\n",
    "FlatsStats=Stats(district4,4,FlatsStats)\n",
    "#ЮАО\n",
    "district5 = 'http://www.cian.ru/cat.php?deal_type=sale&district%5B0%5D=84&district%5B1%5D=85&district%5B10%5D=94&district%5B11%5D=95&district%5B12%5D=96&district%5B13%5D=97&district%5B14%5D=98&district%5B15%5D=99&district%5B2%5D=86&district%5B3%5D=87&district%5B4%5D=88&district%5B5%5D=89&district%5B6%5D=90&district%5B7%5D=91&district%5B8%5D=92&district%5B9%5D=93&engine_version=2&offer_type=flat&p={}&room1=1&room2=1&room3=1&room4=1&room5=1&room6=1'\n",
    "FlatsStats=Stats(district5,5,FlatsStats)\n",
    "#ЮЗАО\n",
    "district6 = 'http://www.cian.ru/cat.php?deal_type=sale&district%5B0%5D=100&district%5B1%5D=101&district%5B10%5D=110&district%5B11%5D=111&district%5B2%5D=102&district%5B3%5D=103&district%5B4%5D=104&district%5B5%5D=105&district%5B6%5D=106&district%5B7%5D=107&district%5B8%5D=108&district%5B9%5D=109&engine_version=2&offer_type=flat&p={}&room1=1&room2=1&room3=1&room4=1&room5=1&room6=1'\n",
    "FlatsStats=Stats(district6,6,FlatsStats)\n",
    "#ЗАО\n",
    "district7 = 'http://www.cian.ru/cat.php?deal_type=sale&district%5B0%5D=112&district%5B1%5D=113&district%5B10%5D=122&district%5B11%5D=123&district%5B12%5D=124&district%5B13%5D=348&district%5B14%5D=349&district%5B15%5D=350&district%5B2%5D=114&district%5B3%5D=115&district%5B4%5D=116&district%5B5%5D=117&district%5B6%5D=118&district%5B7%5D=119&district%5B8%5D=120&district%5B9%5D=121&engine_version=2&offer_type=flat&p={}&room1=1&room2=1&room3=1&room4=1&room5=1&room6=1'\n",
    "FlatsStats=Stats(district7,7,FlatsStats)\n",
    "#СЗАО\n",
    "district8 = 'http://www.cian.ru/cat.php?deal_type=sale&district%5B0%5D=125&district%5B1%5D=126&district%5B2%5D=127&district%5B3%5D=128&district%5B4%5D=129&district%5B5%5D=130&district%5B6%5D=131&district%5B7%5D=132&engine_version=2&offer_type=flat&p={}&room1=1&room2=1&room3=1&room4=1&room5=1&room6=1'\n",
    "FlatsStats=Stats(district8,8,FlatsStats)"
   ]
  },
  {
   "cell_type": "code",
   "execution_count": 53,
   "metadata": {
    "collapsed": false
   },
   "outputs": [],
   "source": [
    "del FlatsStats['N']\n",
    "FlatsStats.insert(1,'N',np.arange(0,FlatsStats.shape[0],1))"
   ]
  },
  {
   "cell_type": "code",
   "execution_count": 55,
   "metadata": {
    "collapsed": true
   },
   "outputs": [],
   "source": [
    "import csv\n",
    "with open('FlatsStats.csv', 'w',newline='') as csvfile:\n",
    "    writer = csv.DictWriter(csvfile, fieldnames=['District','N','Rooms','Price','Totsp','Livesp','Kitsp','Dist',\n",
    "                                                 'Metrdist','Walk','Brick','Tel','Bal','Floor','Nfloors','New'])\n",
    "    n=FlatsStats.shape[0]\n",
    "    writer.writeheader()\n",
    "    for i in range(n):\n",
    "        writer.writerow({'District':FlatsStats['District'][i],\n",
    "                         'N':FlatsStats['N'][i],\n",
    "                         'Rooms':FlatsStats['Rooms'][i],\n",
    "                         'Price':FlatsStats['Price'][i],\n",
    "                         'Totsp':FlatsStats['Totsp'][i],\n",
    "                         'Livesp':FlatsStats['Livesp'][i],\n",
    "                         'Kitsp':FlatsStats['Kitsp'][i],\n",
    "                         'Dist':FlatsStats['Dist'][i],\n",
    "                         'Metrdist':FlatsStats['Metrdist'][i],\n",
    "                         'Walk':FlatsStats['Walk'][i],\n",
    "                         'Brick':FlatsStats['Brick'][i],\n",
    "                         'Tel':FlatsStats['Tel'][i],\n",
    "                         'Bal':FlatsStats['Bal'][i],\n",
    "                         'Floor':FlatsStats['Floor'][i],\n",
    "                         'Nfloors':FlatsStats['Nfloors'][i],\n",
    "                         'New':FlatsStats['New'][i],\n",
    "                         })"
   ]
  }
 ],
 "metadata": {
  "kernelspec": {
   "display_name": "Python 3",
   "language": "python",
   "name": "python3"
  },
  "language_info": {
   "codemirror_mode": {
    "name": "ipython",
    "version": 3
   },
   "file_extension": ".py",
   "mimetype": "text/x-python",
   "name": "python",
   "nbconvert_exporter": "python",
   "pygments_lexer": "ipython3",
   "version": "3.5.1"
  }
 },
 "nbformat": 4,
 "nbformat_minor": 0
}
